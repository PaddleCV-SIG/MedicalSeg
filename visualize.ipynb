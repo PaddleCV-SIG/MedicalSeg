{
 "cells": [
  {
   "cell_type": "markdown",
   "metadata": {},
   "source": [
    "## Please install the itkwidgts before experiment\n",
    "details to install it can be found [here](https://github.com/InsightSoftwareConsortium/itkwidgets#installation)"
   ]
  },
  {
   "cell_type": "code",
   "execution_count": 1,
   "metadata": {
    "scrolled": true
   },
   "outputs": [
    {
     "name": "stdout",
     "output_type": "stream",
     "text": [
      "Requirement already satisfied: scipy in /ssd2/tangshiyu/anaconda3/lib/python3.8/site-packages (1.6.2)\r\n",
      "Requirement already satisfied: numpy<1.23.0,>=1.16.5 in /ssd2/tangshiyu/anaconda3/lib/python3.8/site-packages (from scipy) (1.20.1)\r\n"
     ]
    }
   ],
   "source": [
    "# Install dependencies for this example\n",
    "# Note: This does not include itkwidgets, itself\n",
    "import sys\n",
    "!{sys.executable} -m pip install scipy"
   ]
  },
  {
   "cell_type": "code",
   "execution_count": 2,
   "metadata": {},
   "outputs": [],
   "source": [
    "import numpy as np\n",
    "\n",
    "from itkwidgets import view, compare"
   ]
  },
  {
   "cell_type": "code",
   "execution_count": 5,
   "metadata": {},
   "outputs": [
    {
     "name": "stdout",
     "output_type": "stream",
     "text": [
      "(128, 128, 128)\n"
     ]
    }
   ],
   "source": [
    "# the infer output \n",
    "infer_result = np.load(\"figures/coronacases_org_007.npy\").squeeze()\n",
    "print(infer_result.shape)\n",
    "infer_result = infer_result*100\n",
    "\n",
    "# Ascent has a range of values from 0 to 255, but it is stored with a int64 dtype\n",
    "infer_result = infer_result.astype(np.uint8)"
   ]
  },
  {
   "cell_type": "code",
   "execution_count": 23,
   "metadata": {},
   "outputs": [
    {
     "name": "stdout",
     "output_type": "stream",
     "text": [
      "(128, 128, 128)\n"
     ]
    }
   ],
   "source": [
    "b = np.load(\"figures/3_pred.npy\").squeeze()\n",
    "print(b.shape)\n",
    "b = b*100\n",
    "\n",
    "# Ascent has a range of values from 0 to 255, but it is stored with a int64 dtype\n",
    "b = b.astype(np.uint8)"
   ]
  },
  {
   "cell_type": "code",
   "execution_count": 24,
   "metadata": {},
   "outputs": [
    {
     "name": "stdout",
     "output_type": "stream",
     "text": [
      "(128, 128, 128)\n"
     ]
    }
   ],
   "source": [
    "c = np.load(\"figures/3_label.npy\").squeeze()\n",
    "print(b.shape)\n",
    "c = c*100\n",
    "\n",
    "# Ascent has a range of values from 0 to 255, but it is stored with a int64 dtype\n",
    "c = c.astype(np.uint8)"
   ]
  },
  {
   "cell_type": "code",
   "execution_count": 22,
   "metadata": {},
   "outputs": [
    {
     "name": "stdout",
     "output_type": "stream",
     "text": [
      "(128, 128, 128)\n"
     ]
    }
   ],
   "source": [
    "d = np.load(\"figures/3_img.npy\").squeeze()\n",
    "print(d.shape)\n",
    "d = d*100\n",
    "\n",
    "# Ascent has a range of values from 0 to 255, but it is stored with a int64 dtype\n",
    "d = d.astype(np.uint8)"
   ]
  },
  {
   "cell_type": "code",
   "execution_count": 18,
   "metadata": {},
   "outputs": [],
   "source": [
    "# b is pred, c is label, d is img\n",
    "predlabel = np.concatenate((b, c), axis=1)"
   ]
  },
  {
   "cell_type": "code",
   "execution_count": 25,
   "metadata": {},
   "outputs": [
    {
     "name": "stdout",
     "output_type": "stream",
     "text": [
      "(128, 256, 128)\n"
     ]
    },
    {
     "data": {
      "application/vnd.jupyter.widget-view+json": {
       "model_id": "040c0c67fcf940748eb23aad912348cc",
       "version_major": 2,
       "version_minor": 0
      },
      "text/plain": [
       "Viewer(axes=True, geometries=[], gradient_opacity=1.0, point_sets=[], rendered_image=<itk.itkImagePython.itkIm…"
      ]
     },
     "metadata": {},
     "output_type": "display_data"
    }
   ],
   "source": [
    "print(predlabel.shape)\n",
    "\n",
    "view(predlabel[:, 50:240, :],  axes=True, vmin=0, vmax=200, gradient_opacity=1.9)"
   ]
  },
  {
   "cell_type": "code",
   "execution_count": 26,
   "metadata": {},
   "outputs": [
    {
     "data": {
      "application/vnd.jupyter.widget-view+json": {
       "model_id": "ba7e572d5e454edcb397aa5485244bd5",
       "version_major": 2,
       "version_minor": 0
      },
      "text/plain": [
       "Viewer(axes=True, cmap=['OrPu', 'BkGn'], geometries=[], gradient_opacity=1.0, interpolation=False, point_sets=…"
      ]
     },
     "metadata": {},
     "output_type": "display_data"
    }
   ],
   "source": [
    "view(label_image=predlabel[:, 50:240, :], rotate=True, axes=True, vmin=0, vmax=200, gradient_opacity=10.0, cmap=[\"OrPu\", 'BkGn'])"
   ]
  },
  {
   "cell_type": "code",
   "execution_count": 27,
   "metadata": {},
   "outputs": [
    {
     "data": {
      "application/vnd.jupyter.widget-view+json": {
       "model_id": "50f0323711f14871b5e62552027f021f",
       "version_major": 2,
       "version_minor": 0
      },
      "text/plain": [
       "AppLayout(children=(HBox(children=(Label(value='Link:'), Checkbox(value=True, description='cmap'), Checkbox(va…"
      ]
     },
     "metadata": {},
     "output_type": "display_data"
    }
   ],
   "source": [
    "compare(b, c, link_cmap=True, rotate=True)"
   ]
  }
 ],
 "metadata": {
  "kernelspec": {
   "display_name": "Python 3",
   "language": "python",
   "name": "python3"
  },
  "language_info": {
   "codemirror_mode": {
    "name": "ipython",
    "version": 3
   },
   "file_extension": ".py",
   "mimetype": "text/x-python",
   "name": "python",
   "nbconvert_exporter": "python",
   "pygments_lexer": "ipython3",
   "version": "3.8.8"
  }
 },
 "nbformat": 4,
 "nbformat_minor": 4
}
